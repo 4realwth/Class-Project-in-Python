{
 "cells": [
  {
   "cell_type": "code",
   "execution_count": 1,
   "outputs": [
    {
     "name": "stdout",
     "output_type": "stream",
     "text": [
      "Rate in $/min for calls within the US (x): 50/9\n",
      "Rate in $/min for calls to Germany (y): 335/99\n",
      "Rate in $/min for calls to Canada (z): 1/33\n",
      "Rate in $/min for calls to France (t): 620/99\n"
     ]
    }
   ],
   "source": [
    "import numpy as np\n",
    "import sympy as sy\n",
    "#import scipy as sp\n",
    "#from sympy import symbols\n",
    "x, y, z, t, u = sy.symbols(\"x y z t u\")\n",
    "equations = [\n",
    "    x + 3*y - z + t + u - 26,\n",
    "    2*x + 4*y + z + t + u - 35,\n",
    "    5*x - 2*y - z + t - 4*u - 11,\n",
    "    3*x + y - 5*z - 7*t - u + 28,\n",
    "    4*x + 5*y - 3*z + 2*t + 7*u - 80\n",
    "]\n",
    "solutions = sy.solve(equations, (x, y, z, t, u))\n",
    "rate_us = solutions[x]\n",
    "rate_germany = solutions[y]\n",
    "rate_canada = solutions[z]\n",
    "rate_france = solutions[t]\n",
    "\n",
    "print(\"Rate in $/min for calls to Germany (y):\", rate_germany)\n",
    "print(\"Rate in $/min for calls to Canada (z):\", rate_canada)\n",
    "print(\"Rate in $/min for calls to France (t):\", rate_france)\n"
   ],
   "metadata": {
    "collapsed": false,
    "ExecuteTime": {
     "end_time": "2023-07-06T20:59:09.837515Z",
     "start_time": "2023-07-06T20:59:06.380296Z"
    }
   }
  },
  {
   "cell_type": "code",
   "execution_count": 41,
   "outputs": [],
   "source": [
    "#import numpy as np\n",
    "#import sympy as sy\n",
    "#import scipy as sp\n",
    "#from sympy import symbols\n",
    "#x,y = symbols(\"x,y\")\n",
    "#ans = sy.solve([2*x-3*y-17, 4*x+7*y+5])\n",
    "#print(\"The answer is : \\n\")\n",
    "#sy.pprint(ans)\n",
    "\n",
    "#ans = sy.solve([15*x+3*y-6*z+5*t+u-26])\n",
    "#print(\"The answer is : \\n\")\n",
    "#sy.pprint(ans)\n"
   ],
   "metadata": {
    "collapsed": false,
    "ExecuteTime": {
     "end_time": "2023-07-06T20:47:32.916759Z",
     "start_time": "2023-07-06T20:47:32.906586Z"
    }
   }
  }
 ],
 "metadata": {
  "kernelspec": {
   "display_name": "Python 3",
   "language": "python",
   "name": "python3"
  },
  "language_info": {
   "codemirror_mode": {
    "name": "ipython",
    "version": 2
   },
   "file_extension": ".py",
   "mimetype": "text/x-python",
   "name": "python",
   "nbconvert_exporter": "python",
   "pygments_lexer": "ipython2",
   "version": "2.7.6"
  }
 },
 "nbformat": 4,
 "nbformat_minor": 0
}
